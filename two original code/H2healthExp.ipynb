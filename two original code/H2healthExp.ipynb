{
 "cells": [
  {
   "cell_type": "code",
   "execution_count": 3,
   "metadata": {
    "pycharm": {
     "name": "#%%\n"
    }
   },
   "outputs": [],
   "source": [
    "import pandas as pd\n",
    "import openpyxl\n",
    "import requests\n",
    "import seaborn as sns\n",
    "import matplotlib.pyplot as plt\n",
    "import seaborn as sns\n",
    "import statsmodels.api as sm\n",
    "from statsmodels.formula.api import ols\n",
    "from scipy.stats import pearsonr"
   ]
  },
  {
   "cell_type": "code",
   "execution_count": 43,
   "metadata": {
    "pycharm": {
     "name": "#%%\n"
    }
   },
   "outputs": [],
   "source": [
    "# code = {'WHOSIS_000001':'LifeExpectancy','MDG_0000000007':'Under5_Mortality'}: LifeExpectancy data was reported every 5 year\n",
    "def getDataFrame(url: str) -> pd.DataFrame:\n",
    "    \"\"\"\n",
    "    This function aims to download data from the website throng API\n",
    "    :param url: the url of the dataset\n",
    "    :return: Returning data as a dataframe\n",
    "    >>> getDataFrame('https://ghoapi.azureedge.net/api/WHOSIS_000002').shape[0]\n",
    "    2328\n",
    "    \"\"\"\n",
    "    data = requests.get(url).json()\n",
    "    data = data['value']\n",
    "    data = pd.DataFrame(data)\n",
    "    return data\n"
   ]
  },
  {
   "cell_type": "code",
   "execution_count": 68,
   "metadata": {},
   "outputs": [
    {
     "data": {
      "text/html": [
       "<div>\n",
       "<style scoped>\n",
       "    .dataframe tbody tr th:only-of-type {\n",
       "        vertical-align: middle;\n",
       "    }\n",
       "\n",
       "    .dataframe tbody tr th {\n",
       "        vertical-align: top;\n",
       "    }\n",
       "\n",
       "    .dataframe thead th {\n",
       "        text-align: right;\n",
       "    }\n",
       "</style>\n",
       "<table border=\"1\" class=\"dataframe\">\n",
       "  <thead>\n",
       "    <tr style=\"text-align: right;\">\n",
       "      <th></th>\n",
       "      <th>Id</th>\n",
       "      <th>IndicatorCode</th>\n",
       "      <th>SpatialDimType</th>\n",
       "      <th>SpatialDim</th>\n",
       "      <th>TimeDimType</th>\n",
       "      <th>TimeDim</th>\n",
       "      <th>Dim1Type</th>\n",
       "      <th>Dim1</th>\n",
       "      <th>Dim2Type</th>\n",
       "      <th>Dim2</th>\n",
       "      <th>...</th>\n",
       "      <th>DataSourceDim</th>\n",
       "      <th>Value</th>\n",
       "      <th>NumericValue</th>\n",
       "      <th>Low</th>\n",
       "      <th>High</th>\n",
       "      <th>Comments</th>\n",
       "      <th>Date</th>\n",
       "      <th>TimeDimensionValue</th>\n",
       "      <th>TimeDimensionBegin</th>\n",
       "      <th>TimeDimensionEnd</th>\n",
       "    </tr>\n",
       "  </thead>\n",
       "  <tbody>\n",
       "    <tr>\n",
       "      <th>0</th>\n",
       "      <td>24614321</td>\n",
       "      <td>WHOSIS_000001</td>\n",
       "      <td>COUNTRY</td>\n",
       "      <td>AFG</td>\n",
       "      <td>YEAR</td>\n",
       "      <td>2015</td>\n",
       "      <td>SEX</td>\n",
       "      <td>MLE</td>\n",
       "      <td>None</td>\n",
       "      <td>None</td>\n",
       "      <td>...</td>\n",
       "      <td>None</td>\n",
       "      <td>61.0</td>\n",
       "      <td>61.03658</td>\n",
       "      <td>None</td>\n",
       "      <td>None</td>\n",
       "      <td>None</td>\n",
       "      <td>2020-12-04T16:59:43.423+01:00</td>\n",
       "      <td>2015</td>\n",
       "      <td>2015-01-01T00:00:00+01:00</td>\n",
       "      <td>2015-12-31T00:00:00+01:00</td>\n",
       "    </tr>\n",
       "    <tr>\n",
       "      <th>1</th>\n",
       "      <td>24614325</td>\n",
       "      <td>WHOSIS_000001</td>\n",
       "      <td>COUNTRY</td>\n",
       "      <td>AFG</td>\n",
       "      <td>YEAR</td>\n",
       "      <td>2019</td>\n",
       "      <td>SEX</td>\n",
       "      <td>MLE</td>\n",
       "      <td>None</td>\n",
       "      <td>None</td>\n",
       "      <td>...</td>\n",
       "      <td>None</td>\n",
       "      <td>63.3</td>\n",
       "      <td>63.28709</td>\n",
       "      <td>None</td>\n",
       "      <td>None</td>\n",
       "      <td>None</td>\n",
       "      <td>2020-12-04T16:59:43.533+01:00</td>\n",
       "      <td>2019</td>\n",
       "      <td>2019-01-01T00:00:00+01:00</td>\n",
       "      <td>2019-12-31T00:00:00+01:00</td>\n",
       "    </tr>\n",
       "    <tr>\n",
       "      <th>2</th>\n",
       "      <td>24614313</td>\n",
       "      <td>WHOSIS_000001</td>\n",
       "      <td>COUNTRY</td>\n",
       "      <td>AFG</td>\n",
       "      <td>YEAR</td>\n",
       "      <td>2000</td>\n",
       "      <td>SEX</td>\n",
       "      <td>MLE</td>\n",
       "      <td>None</td>\n",
       "      <td>None</td>\n",
       "      <td>...</td>\n",
       "      <td>None</td>\n",
       "      <td>54.6</td>\n",
       "      <td>54.57449</td>\n",
       "      <td>None</td>\n",
       "      <td>None</td>\n",
       "      <td>None</td>\n",
       "      <td>2020-12-04T16:59:42.513+01:00</td>\n",
       "      <td>2000</td>\n",
       "      <td>2000-01-01T00:00:00+01:00</td>\n",
       "      <td>2000-12-31T00:00:00+01:00</td>\n",
       "    </tr>\n",
       "    <tr>\n",
       "      <th>3</th>\n",
       "      <td>24614317</td>\n",
       "      <td>WHOSIS_000001</td>\n",
       "      <td>COUNTRY</td>\n",
       "      <td>AFG</td>\n",
       "      <td>YEAR</td>\n",
       "      <td>2010</td>\n",
       "      <td>SEX</td>\n",
       "      <td>MLE</td>\n",
       "      <td>None</td>\n",
       "      <td>None</td>\n",
       "      <td>...</td>\n",
       "      <td>None</td>\n",
       "      <td>59.6</td>\n",
       "      <td>59.60036</td>\n",
       "      <td>None</td>\n",
       "      <td>None</td>\n",
       "      <td>None</td>\n",
       "      <td>2020-12-04T16:59:43.013+01:00</td>\n",
       "      <td>2010</td>\n",
       "      <td>2010-01-01T00:00:00+01:00</td>\n",
       "      <td>2010-12-31T00:00:00+01:00</td>\n",
       "    </tr>\n",
       "    <tr>\n",
       "      <th>4</th>\n",
       "      <td>24614329</td>\n",
       "      <td>WHOSIS_000001</td>\n",
       "      <td>COUNTRY</td>\n",
       "      <td>AFG</td>\n",
       "      <td>YEAR</td>\n",
       "      <td>2000</td>\n",
       "      <td>SEX</td>\n",
       "      <td>FMLE</td>\n",
       "      <td>None</td>\n",
       "      <td>None</td>\n",
       "      <td>...</td>\n",
       "      <td>None</td>\n",
       "      <td>55.4</td>\n",
       "      <td>55.41726</td>\n",
       "      <td>None</td>\n",
       "      <td>None</td>\n",
       "      <td>None</td>\n",
       "      <td>2020-12-04T16:59:43.61+01:00</td>\n",
       "      <td>2000</td>\n",
       "      <td>2000-01-01T00:00:00+01:00</td>\n",
       "      <td>2000-12-31T00:00:00+01:00</td>\n",
       "    </tr>\n",
       "    <tr>\n",
       "      <th>5</th>\n",
       "      <td>24614333</td>\n",
       "      <td>WHOSIS_000001</td>\n",
       "      <td>COUNTRY</td>\n",
       "      <td>AFG</td>\n",
       "      <td>YEAR</td>\n",
       "      <td>2010</td>\n",
       "      <td>SEX</td>\n",
       "      <td>FMLE</td>\n",
       "      <td>None</td>\n",
       "      <td>None</td>\n",
       "      <td>...</td>\n",
       "      <td>None</td>\n",
       "      <td>60.3</td>\n",
       "      <td>60.29720</td>\n",
       "      <td>None</td>\n",
       "      <td>None</td>\n",
       "      <td>None</td>\n",
       "      <td>2020-12-04T16:59:43.72+01:00</td>\n",
       "      <td>2010</td>\n",
       "      <td>2010-01-01T00:00:00+01:00</td>\n",
       "      <td>2010-12-31T00:00:00+01:00</td>\n",
       "    </tr>\n",
       "    <tr>\n",
       "      <th>6</th>\n",
       "      <td>24614337</td>\n",
       "      <td>WHOSIS_000001</td>\n",
       "      <td>COUNTRY</td>\n",
       "      <td>AFG</td>\n",
       "      <td>YEAR</td>\n",
       "      <td>2015</td>\n",
       "      <td>SEX</td>\n",
       "      <td>FMLE</td>\n",
       "      <td>None</td>\n",
       "      <td>None</td>\n",
       "      <td>...</td>\n",
       "      <td>None</td>\n",
       "      <td>62.3</td>\n",
       "      <td>62.34584</td>\n",
       "      <td>None</td>\n",
       "      <td>None</td>\n",
       "      <td>None</td>\n",
       "      <td>2020-12-04T16:59:43.847+01:00</td>\n",
       "      <td>2015</td>\n",
       "      <td>2015-01-01T00:00:00+01:00</td>\n",
       "      <td>2015-12-31T00:00:00+01:00</td>\n",
       "    </tr>\n",
       "    <tr>\n",
       "      <th>7</th>\n",
       "      <td>24614341</td>\n",
       "      <td>WHOSIS_000001</td>\n",
       "      <td>COUNTRY</td>\n",
       "      <td>AFG</td>\n",
       "      <td>YEAR</td>\n",
       "      <td>2019</td>\n",
       "      <td>SEX</td>\n",
       "      <td>FMLE</td>\n",
       "      <td>None</td>\n",
       "      <td>None</td>\n",
       "      <td>...</td>\n",
       "      <td>None</td>\n",
       "      <td>63.2</td>\n",
       "      <td>63.15551</td>\n",
       "      <td>None</td>\n",
       "      <td>None</td>\n",
       "      <td>None</td>\n",
       "      <td>2020-12-04T16:59:43.927+01:00</td>\n",
       "      <td>2019</td>\n",
       "      <td>2019-01-01T00:00:00+01:00</td>\n",
       "      <td>2019-12-31T00:00:00+01:00</td>\n",
       "    </tr>\n",
       "    <tr>\n",
       "      <th>8</th>\n",
       "      <td>24614345</td>\n",
       "      <td>WHOSIS_000001</td>\n",
       "      <td>COUNTRY</td>\n",
       "      <td>AFG</td>\n",
       "      <td>YEAR</td>\n",
       "      <td>2000</td>\n",
       "      <td>SEX</td>\n",
       "      <td>BTSX</td>\n",
       "      <td>None</td>\n",
       "      <td>None</td>\n",
       "      <td>...</td>\n",
       "      <td>None</td>\n",
       "      <td>55.0</td>\n",
       "      <td>54.98949</td>\n",
       "      <td>None</td>\n",
       "      <td>None</td>\n",
       "      <td>None</td>\n",
       "      <td>2020-12-04T16:59:44.053+01:00</td>\n",
       "      <td>2000</td>\n",
       "      <td>2000-01-01T00:00:00+01:00</td>\n",
       "      <td>2000-12-31T00:00:00+01:00</td>\n",
       "    </tr>\n",
       "    <tr>\n",
       "      <th>9</th>\n",
       "      <td>24614349</td>\n",
       "      <td>WHOSIS_000001</td>\n",
       "      <td>COUNTRY</td>\n",
       "      <td>AFG</td>\n",
       "      <td>YEAR</td>\n",
       "      <td>2010</td>\n",
       "      <td>SEX</td>\n",
       "      <td>BTSX</td>\n",
       "      <td>None</td>\n",
       "      <td>None</td>\n",
       "      <td>...</td>\n",
       "      <td>None</td>\n",
       "      <td>59.9</td>\n",
       "      <td>59.94055</td>\n",
       "      <td>None</td>\n",
       "      <td>None</td>\n",
       "      <td>None</td>\n",
       "      <td>2020-12-04T16:59:44.18+01:00</td>\n",
       "      <td>2010</td>\n",
       "      <td>2010-01-01T00:00:00+01:00</td>\n",
       "      <td>2010-12-31T00:00:00+01:00</td>\n",
       "    </tr>\n",
       "  </tbody>\n",
       "</table>\n",
       "<p>10 rows × 23 columns</p>\n",
       "</div>"
      ],
      "text/plain": [
       "         Id  IndicatorCode SpatialDimType SpatialDim TimeDimType  TimeDim  \\\n",
       "0  24614321  WHOSIS_000001        COUNTRY        AFG        YEAR     2015   \n",
       "1  24614325  WHOSIS_000001        COUNTRY        AFG        YEAR     2019   \n",
       "2  24614313  WHOSIS_000001        COUNTRY        AFG        YEAR     2000   \n",
       "3  24614317  WHOSIS_000001        COUNTRY        AFG        YEAR     2010   \n",
       "4  24614329  WHOSIS_000001        COUNTRY        AFG        YEAR     2000   \n",
       "5  24614333  WHOSIS_000001        COUNTRY        AFG        YEAR     2010   \n",
       "6  24614337  WHOSIS_000001        COUNTRY        AFG        YEAR     2015   \n",
       "7  24614341  WHOSIS_000001        COUNTRY        AFG        YEAR     2019   \n",
       "8  24614345  WHOSIS_000001        COUNTRY        AFG        YEAR     2000   \n",
       "9  24614349  WHOSIS_000001        COUNTRY        AFG        YEAR     2010   \n",
       "\n",
       "  Dim1Type  Dim1 Dim2Type  Dim2  ... DataSourceDim Value NumericValue   Low  \\\n",
       "0      SEX   MLE     None  None  ...          None  61.0     61.03658  None   \n",
       "1      SEX   MLE     None  None  ...          None  63.3     63.28709  None   \n",
       "2      SEX   MLE     None  None  ...          None  54.6     54.57449  None   \n",
       "3      SEX   MLE     None  None  ...          None  59.6     59.60036  None   \n",
       "4      SEX  FMLE     None  None  ...          None  55.4     55.41726  None   \n",
       "5      SEX  FMLE     None  None  ...          None  60.3     60.29720  None   \n",
       "6      SEX  FMLE     None  None  ...          None  62.3     62.34584  None   \n",
       "7      SEX  FMLE     None  None  ...          None  63.2     63.15551  None   \n",
       "8      SEX  BTSX     None  None  ...          None  55.0     54.98949  None   \n",
       "9      SEX  BTSX     None  None  ...          None  59.9     59.94055  None   \n",
       "\n",
       "   High  Comments                           Date TimeDimensionValue  \\\n",
       "0  None      None  2020-12-04T16:59:43.423+01:00               2015   \n",
       "1  None      None  2020-12-04T16:59:43.533+01:00               2019   \n",
       "2  None      None  2020-12-04T16:59:42.513+01:00               2000   \n",
       "3  None      None  2020-12-04T16:59:43.013+01:00               2010   \n",
       "4  None      None   2020-12-04T16:59:43.61+01:00               2000   \n",
       "5  None      None   2020-12-04T16:59:43.72+01:00               2010   \n",
       "6  None      None  2020-12-04T16:59:43.847+01:00               2015   \n",
       "7  None      None  2020-12-04T16:59:43.927+01:00               2019   \n",
       "8  None      None  2020-12-04T16:59:44.053+01:00               2000   \n",
       "9  None      None   2020-12-04T16:59:44.18+01:00               2010   \n",
       "\n",
       "          TimeDimensionBegin           TimeDimensionEnd  \n",
       "0  2015-01-01T00:00:00+01:00  2015-12-31T00:00:00+01:00  \n",
       "1  2019-01-01T00:00:00+01:00  2019-12-31T00:00:00+01:00  \n",
       "2  2000-01-01T00:00:00+01:00  2000-12-31T00:00:00+01:00  \n",
       "3  2010-01-01T00:00:00+01:00  2010-12-31T00:00:00+01:00  \n",
       "4  2000-01-01T00:00:00+01:00  2000-12-31T00:00:00+01:00  \n",
       "5  2010-01-01T00:00:00+01:00  2010-12-31T00:00:00+01:00  \n",
       "6  2015-01-01T00:00:00+01:00  2015-12-31T00:00:00+01:00  \n",
       "7  2019-01-01T00:00:00+01:00  2019-12-31T00:00:00+01:00  \n",
       "8  2000-01-01T00:00:00+01:00  2000-12-31T00:00:00+01:00  \n",
       "9  2010-01-01T00:00:00+01:00  2010-12-31T00:00:00+01:00  \n",
       "\n",
       "[10 rows x 23 columns]"
      ]
     },
     "execution_count": 68,
     "metadata": {},
     "output_type": "execute_result"
    }
   ],
   "source": []
  },
  {
   "cell_type": "code",
   "execution_count": 79,
   "metadata": {
    "pycharm": {
     "name": "#%%\n"
    }
   },
   "outputs": [],
   "source": [
    "# how the health outcome change over time, but this dataset use a slightly different region categories from what the following analysis used.\n",
    "def lineplot_time(HealthOutcomeData: pd.DataFrame):\n",
    "    \"\"\"\n",
    "    :param HealthOutcomeData: data set of health outcome data: Under5_Mortality, LifeExpectancy\n",
    "    :return: reformatted data set\n",
    "    >>> a = [[24614321, 'WHOSIS_000001', 'COUNTRY', 'AFG', 'YEAR', 2015, 'SEX', 'MLE', None, None, None, None, None, None, '61.0', 61.03658, None, None, None, '2020-12-04T16:59:43.423+01:00', '2015', '2015-01-01T00:00:00+01:00', '2015-12-31T00:00:00+01:00'], [24614325, 'WHOSIS_000001', 'COUNTRY', 'AFG', 'YEAR', 2019, 'SEX', 'MLE', None, None, None, None, None, None, '63.3', 63.28709, None, None, None, '2020-12-04T16:59:43.533+01:00', '2019', '2019-01-01T00:00:00+01:00', '2019-12-31T00:00:00+01:00'], [24614313, 'WHOSIS_000001', 'COUNTRY', 'AFG', 'YEAR', 2000, 'SEX', 'MLE', None, None, None, None, None, None, '54.6', 54.57449, None, None, None, '2020-12-04T16:59:42.513+01:00', '2000', '2000-01-01T00:00:00+01:00', '2000-12-31T00:00:00+01:00'], [24614317, 'WHOSIS_000001', 'COUNTRY', 'AFG', 'YEAR', 2010, 'SEX', 'MLE', None, None, None, None, None, None, '59.6', 59.60036, None, None, None, '2020-12-04T16:59:43.013+01:00', '2010', '2010-01-01T00:00:00+01:00', '2010-12-31T00:00:00+01:00'], [24614329, 'WHOSIS_000001', 'COUNTRY', 'AFG', 'YEAR', 2000, 'SEX', 'FMLE', None, None, None, None, None, None, '55.4', 55.41726, None, None, None, '2020-12-04T16:59:43.61+01:00', '2000', '2000-01-01T00:00:00+01:00', '2000-12-31T00:00:00+01:00'], [24614333, 'WHOSIS_000001', 'COUNTRY', 'AFG', 'YEAR', 2010, 'SEX', 'FMLE', None, None, None, None, None, None, '60.3', 60.2972, None, None, None, '2020-12-04T16:59:43.72+01:00', '2010', '2010-01-01T00:00:00+01:00', '2010-12-31T00:00:00+01:00'], [24614337, 'WHOSIS_000001', 'COUNTRY', 'AFG', 'YEAR', 2015, 'SEX', 'FMLE', None, None, None, None, None, None, '62.3', 62.34584, None, None, None, '2020-12-04T16:59:43.847+01:00', '2015', '2015-01-01T00:00:00+01:00', '2015-12-31T00:00:00+01:00'], [24614341, 'WHOSIS_000001', 'COUNTRY', 'AFG', 'YEAR', 2019, 'SEX', 'FMLE', None, None, None, None, None, None, '63.2', 63.15551, None, None, None, '2020-12-04T16:59:43.927+01:00', '2019', '2019-01-01T00:00:00+01:00', '2019-12-31T00:00:00+01:00'], [24614345, 'WHOSIS_000001', 'COUNTRY', 'AFG', 'YEAR', 2000, 'SEX', 'BTSX', None, None, None, None, None, None, '55.0', 54.98949, None, None, None, '2020-12-04T16:59:44.053+01:00', '2000', '2000-01-01T00:00:00+01:00', '2000-12-31T00:00:00+01:00'], [24614349, 'WHOSIS_000001', 'COUNTRY', 'AFG', 'YEAR', 2010, 'SEX', 'BTSX', None, None, None, None, None, None, '59.9', 59.94055, None, None, None, '2020-12-04T16:59:44.18+01:00', '2010', '2010-01-01T00:00:00+01:00', '2010-12-31T00:00:00+01:00']]\n",
    "    >>> cols = ['Id', 'IndicatorCode', 'SpatialDimType', 'SpatialDim', 'TimeDimType', 'TimeDim', 'Dim1Type', 'Dim1', 'Dim2Type', 'Dim2', 'Dim3Type', 'Dim3', 'DataSourceDimType', 'DataSourceDim', 'Value', 'NumericValue', 'Low', 'High', 'Comments', 'Date', 'TimeDimensionValue', 'TimeDimensionBegin', 'TimeDimensionEnd']\n",
    "    >>> df = pd.DataFrame(a, columns = cols)\n",
    "    >>> lineplot_time(\"Under5_Mortality_1\")\n",
    "    Traceback (most recent call last):\n",
    "    AttributeError: 'str' object has no attribute 'columns'\n",
    "    \n",
    "    >>> lineplot_time(df[['TimeDim']])\n",
    "    Traceback (most recent call last):\n",
    "    KeyError\n",
    "\n",
    "    \"\"\"\n",
    "    if ('TimeDim' not in HealthOutcomeData.columns) or ('NumericValue' not in HealthOutcomeData.columns) or ('SpatialDim' not in HealthOutcomeData.columns):\n",
    "        raise KeyError\n",
    "    b = HealthOutcomeData[(HealthOutcomeData['Dim1'] == 'BTSX') & (HealthOutcomeData['SpatialDimType'] == 'REGION')][['TimeDim','NumericValue','SpatialDim']]\n",
    "    a = b[b['SpatialDim'] != 'GLOBAL'] # no global value\n",
    "    a = a.astype({\"TimeDim\": str})\n",
    "    a = a.pivot(index='TimeDim', columns='SpatialDim',values = 'NumericValue')\n",
    "    a = a.rename_axis(None, axis=1)\n",
    "    plt.figure(figsize=(16,8))\n",
    "    p = sns.lineplot(data=a)\n",
    "    p.set(xlabel = \"Year\", ylabel = 'Value')\n",
    "    sns.set(rc={\"figure.figsize\":(3, 4)})\n",
    "    plt.show()\n"
   ]
  },
  {
   "cell_type": "code",
   "execution_count": 81,
   "metadata": {
    "pycharm": {
     "name": "#%%\n"
    }
   },
   "outputs": [],
   "source": [
    "def formatWithoutSex(df: pd.DataFrame) -> pd.DataFrame:\n",
    "    \"\"\"\n",
    "    only applies to maternal mortality rate\n",
    "    :param df: the target data set\n",
    "    :return: the reformatted data set\n",
    "    >>> formatWithoutSex(MaternalMortalityRatio_1)['COUNTRY']\n",
    "    Traceback (most recent call last):\n",
    "    KeyError: 'COUNTRY'\n",
    "    \"\"\"\n",
    "    df = df[df['SpatialDimType'] == 'COUNTRY']\n",
    "    df = df[['SpatialDim','TimeDim','NumericValue']]\n",
    "    df = df.rename(columns={\"SpatialDim\":\"countrycode\", \"TimeDim\":\"year\", \"NumericValue\": 'MaternalMortalityRatio'})\n",
    "    df = df.astype({\"year\": str})\n",
    "    df = df[['countrycode','year','MaternalMortalityRatio']]\n",
    "    return df\n"
   ]
  },
  {
   "cell_type": "code",
   "execution_count": 84,
   "metadata": {
    "pycharm": {
     "name": "#%%\n"
    }
   },
   "outputs": [],
   "source": [
    "def formatWithSex(name: str, df: pd.DataFrame) -> pd.DataFrame:\n",
    "    \"\"\"\n",
    "    only applies to life expectancy and Under5_Mortality\n",
    "    :param name: reformat with sex, pivot that column\n",
    "    :param df:\n",
    "    :return:\n",
    "    >>> formatWithSex('Under5_Mortality', Under5_Mortality)\n",
    "    Traceback (most recent call last):\n",
    "    KeyError: 'SpatialDimType'\n",
    "    >>> type(formatWithSex('Under5_Mortality', Under5_Mortality_1)['year'][0])\n",
    "    <class 'str'>\n",
    "    \"\"\"\n",
    "    df = df[df['SpatialDimType'] == 'COUNTRY']\n",
    "    df = df[['SpatialDim','TimeDim','Dim1','NumericValue']]\n",
    "    df = df.rename(columns={\"SpatialDim\":\"countrycode\", \"TimeDim\":\"year\", \"Dim1\":\"Sex\",\"NumericValue\": 'df'})\n",
    "    df = df.pivot(index=['countrycode','year'],columns = ['Sex'],values= 'df')\n",
    "    df = df.reset_index()\n",
    "    df.rename(columns={'BTSX':f'{name}_BTSX','FMLE':f'{name}_FMLE','MLE':f'{name}_MLE'},inplace=True)\n",
    "    df = df[['countrycode','year',f'{name}_BTSX',f'{name}_FMLE',f'{name}_MLE']]\n",
    "    df = df.astype({\"year\": str})\n",
    "    df = df.rename_axis(None, axis=1) # remove \"Sex\" as the index name\n",
    "    return df"
   ]
  },
  {
   "cell_type": "code",
   "execution_count": 85,
   "metadata": {
    "pycharm": {
     "name": "#%%\n"
    }
   },
   "outputs": [],
   "source": [
    "def effectOfexp2015before(data: pd.DataFrame,col: str,region: str) -> tuple:\n",
    "    \"\"\"\n",
    "    :param data: the input data set\n",
    "    :param col: one of the column name needs to be tested\n",
    "    :return: correlation results\n",
    "    >>> effectOfexp2015before(Under5_clean,'Under5_Mortality_BTSX','Europe & Central')\n",
    "    (None, None)\n",
    "    \"\"\"\n",
    "    if region not in ['East Asia & Pacific','Europe & Central Asia','Latin America & Caribbean','Middle East & North Africa','North America','South Asia','Sub-Saharan Africa']:\n",
    "        return None, None\n",
    "    cleaned = data.loc[(data[\"Year\"] == 2000) | (data[\"Year\"] == 2001) | (data[\"Year\"] == 2002) | (data[\"Year\"] == 2003) | (data[\"Year\"] == 2004) | (data[\"Year\"] == 2005) | (data[\"Year\"] == 2006) | (data[\"Year\"] == 2007) | (data[\"Year\"] == 2008) | (data[\"Year\"] == 2009) | (data[\"Year\"] == 2010) | (data[\"Year\"] == 2011) | (data[\"Year\"] == 2012) | (data[\"Year\"] == 2013) | (data[\"Year\"] == 2014)]\n",
    "    coefficient, pvalue = pearsonr(cleaned[cleaned['Region'] == region]['che_gdp'], cleaned[cleaned['Region'] == region][col])\n",
    "    return coefficient, pvalue\n"
   ]
  },
  {
   "cell_type": "code",
   "execution_count": 17,
   "metadata": {
    "pycharm": {
     "name": "#%%\n"
    }
   },
   "outputs": [],
   "source": [
    "# life expectancy: Europe & Central Asia positively correlated; Sub-Saharan Africa negatively correlated: differ in regions:\n",
    "# conclusion from regional paper: year: before 2015 in Sub-Saharan Africa, 1 percent increase in health expenditure per capita improve life expectancy by 0.06 percent.\n",
    "# in 2019: sub-Saharan Africa, 1 percent increase in health expenditure per capita improve life expectancy by 0.06 percent.\n",
    "def effectOfexp2015after(data: pd.DataFrame,col: str,region: str) -> tuple:\n",
    "    \"\"\"\n",
    "    :param data: the input data set\n",
    "    :param col: one of the column name needs to be tested\n",
    "    :return: correlation results\n",
    "    \"\"\"\n",
    "    if region not in ['East Asia & Pacific','Europe & Central Asia','Latin America & Caribbean','Middle East & North Africa','North America','South Asia','Sub-Saharan Africa']:\n",
    "        return None, None\n",
    "    cleaned = data.loc[(data[\"Year\"] == 2015) | (data[\"Year\"] == 2016) | (data[\"Year\"] == 2017) | (data[\"Year\"] == 2018) | (data[\"Year\"] == 2019)]\n",
    "    coefficient, pvalue = pearsonr(cleaned[cleaned['Region'] == region]['che_gdp'], cleaned[cleaned['Region'] == region][col])\n",
    "    return coefficient, pvalue\n"
   ]
  },
  {
   "cell_type": "code",
   "execution_count": 18,
   "metadata": {
    "pycharm": {
     "name": "#%%\n"
    }
   },
   "outputs": [],
   "source": [
    "# read income data, 218 countries\n",
    "incomegroup = pd.read_excel(\"../datasources/income group.xlsx\",sheet_name='Sheet1')\n",
    "healthExp = pd.read_excel(\"../datasources/healthExp_data.xlsx\",sheet_name='cleaned')\n",
    "\n",
    "incomegroup = pd.melt(incomegroup, id_vars=['CountryCode','CountryName'], value_vars=[2000,2001,2002,2003,2004,2005,2006,2007,2008,2009,2010,2011,2012,2013,2014,2015,2016,2017,2018,2019,2020], var_name='Year', value_name='incomeGroup')\n",
    "\n",
    "# left join with region table.\n",
    "region = pd.read_csv(\"../datasources/country_region.csv\")[['Country','Region']]\n",
    "countryInfo = incomegroup.merge(region, left_on='CountryName', right_on='Country') # inner join\n",
    "countryInfo = countryInfo[['Country','CountryCode','Region','Year','incomeGroup']]\n",
    "countryInfo = countryInfo.astype({\"Year\": str})\n"
   ]
  },
  {
   "cell_type": "code",
   "execution_count": 19,
   "metadata": {
    "pycharm": {
     "name": "#%%\n"
    }
   },
   "outputs": [
    {
     "data": {
      "text/html": [
       "<div>\n",
       "<style scoped>\n",
       "    .dataframe tbody tr th:only-of-type {\n",
       "        vertical-align: middle;\n",
       "    }\n",
       "\n",
       "    .dataframe tbody tr th {\n",
       "        vertical-align: top;\n",
       "    }\n",
       "\n",
       "    .dataframe thead th {\n",
       "        text-align: right;\n",
       "    }\n",
       "</style>\n",
       "<table border=\"1\" class=\"dataframe\">\n",
       "  <thead>\n",
       "    <tr style=\"text-align: right;\">\n",
       "      <th></th>\n",
       "      <th>Country</th>\n",
       "      <th>Region</th>\n",
       "      <th>CountryCode</th>\n",
       "      <th>Year</th>\n",
       "      <th>incomeGroup</th>\n",
       "      <th>che_gdp</th>\n",
       "    </tr>\n",
       "  </thead>\n",
       "  <tbody>\n",
       "    <tr>\n",
       "      <th>0</th>\n",
       "      <td>Afghanistan</td>\n",
       "      <td>South Asia</td>\n",
       "      <td>AFG</td>\n",
       "      <td>2000</td>\n",
       "      <td>L</td>\n",
       "      <td>NaN</td>\n",
       "    </tr>\n",
       "    <tr>\n",
       "      <th>1</th>\n",
       "      <td>Afghanistan</td>\n",
       "      <td>South Asia</td>\n",
       "      <td>AFG</td>\n",
       "      <td>2001</td>\n",
       "      <td>L</td>\n",
       "      <td>NaN</td>\n",
       "    </tr>\n",
       "    <tr>\n",
       "      <th>2</th>\n",
       "      <td>Afghanistan</td>\n",
       "      <td>South Asia</td>\n",
       "      <td>AFG</td>\n",
       "      <td>2002</td>\n",
       "      <td>L</td>\n",
       "      <td>9.443390</td>\n",
       "    </tr>\n",
       "    <tr>\n",
       "      <th>3</th>\n",
       "      <td>Afghanistan</td>\n",
       "      <td>South Asia</td>\n",
       "      <td>AFG</td>\n",
       "      <td>2003</td>\n",
       "      <td>L</td>\n",
       "      <td>8.941258</td>\n",
       "    </tr>\n",
       "    <tr>\n",
       "      <th>4</th>\n",
       "      <td>Afghanistan</td>\n",
       "      <td>South Asia</td>\n",
       "      <td>AFG</td>\n",
       "      <td>2004</td>\n",
       "      <td>L</td>\n",
       "      <td>9.808474</td>\n",
       "    </tr>\n",
       "    <tr>\n",
       "      <th>...</th>\n",
       "      <td>...</td>\n",
       "      <td>...</td>\n",
       "      <td>...</td>\n",
       "      <td>...</td>\n",
       "      <td>...</td>\n",
       "      <td>...</td>\n",
       "    </tr>\n",
       "    <tr>\n",
       "      <th>3275</th>\n",
       "      <td>Zimbabwe</td>\n",
       "      <td>Sub-Saharan Africa</td>\n",
       "      <td>ZWE</td>\n",
       "      <td>2015</td>\n",
       "      <td>L</td>\n",
       "      <td>7.452066</td>\n",
       "    </tr>\n",
       "    <tr>\n",
       "      <th>3276</th>\n",
       "      <td>Zimbabwe</td>\n",
       "      <td>Sub-Saharan Africa</td>\n",
       "      <td>ZWE</td>\n",
       "      <td>2016</td>\n",
       "      <td>L</td>\n",
       "      <td>7.675163</td>\n",
       "    </tr>\n",
       "    <tr>\n",
       "      <th>3277</th>\n",
       "      <td>Zimbabwe</td>\n",
       "      <td>Sub-Saharan Africa</td>\n",
       "      <td>ZWE</td>\n",
       "      <td>2017</td>\n",
       "      <td>L</td>\n",
       "      <td>7.469752</td>\n",
       "    </tr>\n",
       "    <tr>\n",
       "      <th>3278</th>\n",
       "      <td>Zimbabwe</td>\n",
       "      <td>Sub-Saharan Africa</td>\n",
       "      <td>ZWE</td>\n",
       "      <td>2018</td>\n",
       "      <td>LM</td>\n",
       "      <td>8.680062</td>\n",
       "    </tr>\n",
       "    <tr>\n",
       "      <th>3279</th>\n",
       "      <td>Zimbabwe</td>\n",
       "      <td>Sub-Saharan Africa</td>\n",
       "      <td>ZWE</td>\n",
       "      <td>2019</td>\n",
       "      <td>LM</td>\n",
       "      <td>7.703565</td>\n",
       "    </tr>\n",
       "  </tbody>\n",
       "</table>\n",
       "<p>3280 rows × 6 columns</p>\n",
       "</div>"
      ],
      "text/plain": [
       "          Country              Region CountryCode  Year incomeGroup   che_gdp\n",
       "0     Afghanistan          South Asia         AFG  2000           L       NaN\n",
       "1     Afghanistan          South Asia         AFG  2001           L       NaN\n",
       "2     Afghanistan          South Asia         AFG  2002           L  9.443390\n",
       "3     Afghanistan          South Asia         AFG  2003           L  8.941258\n",
       "4     Afghanistan          South Asia         AFG  2004           L  9.808474\n",
       "...           ...                 ...         ...   ...         ...       ...\n",
       "3275     Zimbabwe  Sub-Saharan Africa         ZWE  2015           L  7.452066\n",
       "3276     Zimbabwe  Sub-Saharan Africa         ZWE  2016           L  7.675163\n",
       "3277     Zimbabwe  Sub-Saharan Africa         ZWE  2017           L  7.469752\n",
       "3278     Zimbabwe  Sub-Saharan Africa         ZWE  2018          LM  8.680062\n",
       "3279     Zimbabwe  Sub-Saharan Africa         ZWE  2019          LM  7.703565\n",
       "\n",
       "[3280 rows x 6 columns]"
      ]
     },
     "execution_count": 19,
     "metadata": {},
     "output_type": "execute_result"
    }
   ],
   "source": [
    "healthExp = healthExp[['country','year','che_gdp']]\n",
    "healthExp = healthExp.astype({\"year\": str})\n",
    "# merge datasets based on two columns:\n",
    "countryInfoAll = countryInfo.merge(healthExp, left_on=['Country','Year'], right_on=['country','year']) # inner join\n",
    "countryInfoAll = countryInfoAll[['Country','Region','CountryCode','Year','incomeGroup','che_gdp']]\n",
    "countryInfoAll"
   ]
  },
  {
   "cell_type": "code",
   "execution_count": 20,
   "metadata": {
    "pycharm": {
     "name": "#%%\n"
    }
   },
   "outputs": [
    {
     "data": {
      "text/plain": [
       "array(['South Asia', 'Europe & Central Asia',\n",
       "       'Middle East & North Africa', 'Sub-Saharan Africa',\n",
       "       'Latin America & Caribbean', 'East Asia & Pacific',\n",
       "       'North America'], dtype=object)"
      ]
     },
     "execution_count": 20,
     "metadata": {},
     "output_type": "execute_result"
    }
   ],
   "source": [
    "countryInfoAll.Region.unique()"
   ]
  },
  {
   "cell_type": "code",
   "execution_count": 21,
   "metadata": {
    "pycharm": {
     "name": "#%%\n"
    }
   },
   "outputs": [
    {
     "data": {
      "text/plain": [
       "Country         0\n",
       "Region          0\n",
       "CountryCode     0\n",
       "Year            0\n",
       "incomeGroup     0\n",
       "che_gdp        55\n",
       "dtype: int64"
      ]
     },
     "execution_count": 21,
     "metadata": {},
     "output_type": "execute_result"
    }
   ],
   "source": [
    "countryInfoAll.isna().sum()"
   ]
  },
  {
   "cell_type": "code",
   "execution_count": 22,
   "metadata": {},
   "outputs": [],
   "source": [
    "LifeExpectancy_1 = getDataFrame('https://ghoapi.azureedge.net/api/WHOSIS_000001')\n",
    "Under5_Mortality_1 = getDataFrame('https://ghoapi.azureedge.net/api/MDG_0000000007')\n",
    "MaternalMortalityRatio_1 = getDataFrame('https://ghoapi.azureedge.net/api/MDG_0000000026')"
   ]
  },
  {
   "cell_type": "code",
   "execution_count": 23,
   "metadata": {
    "pycharm": {
     "name": "#%%\n"
    }
   },
   "outputs": [
    {
     "data": {
      "image/png": "[encoded data removed]",
      "text/plain": [
       "<Figure size 1152x576 with 1 Axes>"
      ]
     },
     "metadata": {
      "needs_background": "light"
     },
     "output_type": "display_data"
    }
   ],
   "source": [
    "lineplot_time(LifeExpectancy_1)"
   ]
  },
  {
   "cell_type": "code",
   "execution_count": 24,
   "metadata": {
    "pycharm": {
     "name": "#%%\n"
    }
   },
   "outputs": [
    {
     "data": {
      "image/png": "[encoded data removed]",
      "text/plain": [
       "<Figure size 1152x576 with 1 Axes>"
      ]
     },
     "metadata": {},
     "output_type": "display_data"
    }
   ],
   "source": [
    "# Sub-Saharan Africa is part of African Region AFRO.\n",
    "lineplot_time(Under5_Mortality_1)"
   ]
  },
  {
   "cell_type": "code",
   "execution_count": 25,
   "metadata": {},
   "outputs": [],
   "source": [
    "Under5_Mortality = formatWithSex('Under5_Mortality', Under5_Mortality_1)\n",
    "LifeExpectancy = formatWithSex('LifeExpectancy', LifeExpectancy_1)"
   ]
  },
  {
   "cell_type": "code",
   "execution_count": 26,
   "metadata": {},
   "outputs": [],
   "source": [
    "MaternalMortalityRatio = formatWithoutSex(MaternalMortalityRatio_1)"
   ]
  },
  {
   "cell_type": "code",
   "execution_count": 27,
   "metadata": {
    "pycharm": {
     "name": "#%%\n"
    }
   },
   "outputs": [
    {
     "data": {
      "image/png": "[encoded data removed]",
      "text/plain": [
       "<Figure size 1152x576 with 1 Axes>"
      ]
     },
     "metadata": {},
     "output_type": "display_data"
    }
   ],
   "source": [
    "# the average of Maternal Mortality Ratio over the world was decreasing over time\n",
    "plt.figure(figsize=(16,8))\n",
    "MaternalMortalityRatio = MaternalMortalityRatio.sort_values('year')\n",
    "sns.lineplot(data=MaternalMortalityRatio, x=\"year\", sort=False,y=\"MaternalMortalityRatio\")\n",
    "sns.set(rc={\"figure.figsize\":(3, 4)})\n",
    "plt.show()\n"
   ]
  },
  {
   "cell_type": "code",
   "execution_count": 28,
   "metadata": {
    "pycharm": {
     "name": "#%%\n"
    }
   },
   "outputs": [],
   "source": [
    "InfoAll = countryInfoAll.merge(LifeExpectancy, left_on=['CountryCode','Year'], right_on=['countrycode','year'], how= 'left')\n",
    "InfoAll = InfoAll.merge(Under5_Mortality, left_on=['CountryCode','Year'], right_on=['countrycode','year'], how= 'left')\n",
    "InfoAll = InfoAll.merge(MaternalMortalityRatio, left_on=['CountryCode','Year'], right_on=['countrycode','year'], how= 'left')\n",
    "InfoAll = InfoAll[['Country','Region','CountryCode','Year','incomeGroup','che_gdp','LifeExpectancy_BTSX','LifeExpectancy_FMLE','LifeExpectancy_MLE','Under5_Mortality_BTSX','Under5_Mortality_FMLE','Under5_Mortality_MLE','MaternalMortalityRatio']]\n"
   ]
  },
  {
   "cell_type": "markdown",
   "metadata": {
    "pycharm": {
     "name": "#%% md\n"
    }
   },
   "source": [
    "##### all data includes health expendure, three factors, year, incomegroup, and region for each country"
   ]
  },
  {
   "cell_type": "code",
   "execution_count": 29,
   "metadata": {
    "pycharm": {
     "name": "#%%\n"
    }
   },
   "outputs": [
    {
     "data": {
      "text/html": [
       "<div>\n",
       "<style scoped>\n",
       "    .dataframe tbody tr th:only-of-type {\n",
       "        vertical-align: middle;\n",
       "    }\n",
       "\n",
       "    .dataframe tbody tr th {\n",
       "        vertical-align: top;\n",
       "    }\n",
       "\n",
       "    .dataframe thead th {\n",
       "        text-align: right;\n",
       "    }\n",
       "</style>\n",
       "<table border=\"1\" class=\"dataframe\">\n",
       "  <thead>\n",
       "    <tr style=\"text-align: right;\">\n",
       "      <th></th>\n",
       "      <th>Country</th>\n",
       "      <th>Region</th>\n",
       "      <th>CountryCode</th>\n",
       "      <th>Year</th>\n",
       "      <th>incomeGroup</th>\n",
       "      <th>che_gdp</th>\n",
       "      <th>LifeExpectancy_BTSX</th>\n",
       "      <th>LifeExpectancy_FMLE</th>\n",
       "      <th>LifeExpectancy_MLE</th>\n",
       "      <th>Under5_Mortality_BTSX</th>\n",
       "      <th>Under5_Mortality_FMLE</th>\n",
       "      <th>Under5_Mortality_MLE</th>\n",
       "      <th>MaternalMortalityRatio</th>\n",
       "    </tr>\n",
       "  </thead>\n",
       "  <tbody>\n",
       "    <tr>\n",
       "      <th>0</th>\n",
       "      <td>Afghanistan</td>\n",
       "      <td>South Asia</td>\n",
       "      <td>AFG</td>\n",
       "      <td>2000</td>\n",
       "      <td>L</td>\n",
       "      <td>NaN</td>\n",
       "      <td>54.98949</td>\n",
       "      <td>55.41726</td>\n",
       "      <td>54.57449</td>\n",
       "      <td>129.17851</td>\n",
       "      <td>124.62522</td>\n",
       "      <td>133.52707</td>\n",
       "      <td>1450.0</td>\n",
       "    </tr>\n",
       "    <tr>\n",
       "      <th>1</th>\n",
       "      <td>Afghanistan</td>\n",
       "      <td>South Asia</td>\n",
       "      <td>AFG</td>\n",
       "      <td>2001</td>\n",
       "      <td>L</td>\n",
       "      <td>NaN</td>\n",
       "      <td>NaN</td>\n",
       "      <td>NaN</td>\n",
       "      <td>NaN</td>\n",
       "      <td>125.18581</td>\n",
       "      <td>120.79429</td>\n",
       "      <td>129.35359</td>\n",
       "      <td>1390.0</td>\n",
       "    </tr>\n",
       "    <tr>\n",
       "      <th>2</th>\n",
       "      <td>Afghanistan</td>\n",
       "      <td>South Asia</td>\n",
       "      <td>AFG</td>\n",
       "      <td>2002</td>\n",
       "      <td>L</td>\n",
       "      <td>9.443390</td>\n",
       "      <td>NaN</td>\n",
       "      <td>NaN</td>\n",
       "      <td>NaN</td>\n",
       "      <td>121.06367</td>\n",
       "      <td>116.89275</td>\n",
       "      <td>125.00544</td>\n",
       "      <td>1300.0</td>\n",
       "    </tr>\n",
       "    <tr>\n",
       "      <th>3</th>\n",
       "      <td>Afghanistan</td>\n",
       "      <td>South Asia</td>\n",
       "      <td>AFG</td>\n",
       "      <td>2003</td>\n",
       "      <td>L</td>\n",
       "      <td>8.941258</td>\n",
       "      <td>NaN</td>\n",
       "      <td>NaN</td>\n",
       "      <td>NaN</td>\n",
       "      <td>116.91188</td>\n",
       "      <td>112.69169</td>\n",
       "      <td>120.83735</td>\n",
       "      <td>1240.0</td>\n",
       "    </tr>\n",
       "    <tr>\n",
       "      <th>4</th>\n",
       "      <td>Afghanistan</td>\n",
       "      <td>South Asia</td>\n",
       "      <td>AFG</td>\n",
       "      <td>2004</td>\n",
       "      <td>L</td>\n",
       "      <td>9.808474</td>\n",
       "      <td>NaN</td>\n",
       "      <td>NaN</td>\n",
       "      <td>NaN</td>\n",
       "      <td>112.63116</td>\n",
       "      <td>108.52726</td>\n",
       "      <td>116.57782</td>\n",
       "      <td>1180.0</td>\n",
       "    </tr>\n",
       "    <tr>\n",
       "      <th>...</th>\n",
       "      <td>...</td>\n",
       "      <td>...</td>\n",
       "      <td>...</td>\n",
       "      <td>...</td>\n",
       "      <td>...</td>\n",
       "      <td>...</td>\n",
       "      <td>...</td>\n",
       "      <td>...</td>\n",
       "      <td>...</td>\n",
       "      <td>...</td>\n",
       "      <td>...</td>\n",
       "      <td>...</td>\n",
       "      <td>...</td>\n",
       "    </tr>\n",
       "    <tr>\n",
       "      <th>3275</th>\n",
       "      <td>Zimbabwe</td>\n",
       "      <td>Sub-Saharan Africa</td>\n",
       "      <td>ZWE</td>\n",
       "      <td>2015</td>\n",
       "      <td>L</td>\n",
       "      <td>7.452066</td>\n",
       "      <td>58.47603</td>\n",
       "      <td>60.95527</td>\n",
       "      <td>55.73344</td>\n",
       "      <td>61.27913</td>\n",
       "      <td>56.05436</td>\n",
       "      <td>66.31459</td>\n",
       "      <td>480.0</td>\n",
       "    </tr>\n",
       "    <tr>\n",
       "      <th>3276</th>\n",
       "      <td>Zimbabwe</td>\n",
       "      <td>Sub-Saharan Africa</td>\n",
       "      <td>ZWE</td>\n",
       "      <td>2016</td>\n",
       "      <td>L</td>\n",
       "      <td>7.675163</td>\n",
       "      <td>NaN</td>\n",
       "      <td>NaN</td>\n",
       "      <td>NaN</td>\n",
       "      <td>58.66147</td>\n",
       "      <td>53.50827</td>\n",
       "      <td>63.56478</td>\n",
       "      <td>468.0</td>\n",
       "    </tr>\n",
       "    <tr>\n",
       "      <th>3277</th>\n",
       "      <td>Zimbabwe</td>\n",
       "      <td>Sub-Saharan Africa</td>\n",
       "      <td>ZWE</td>\n",
       "      <td>2017</td>\n",
       "      <td>L</td>\n",
       "      <td>7.469752</td>\n",
       "      <td>NaN</td>\n",
       "      <td>NaN</td>\n",
       "      <td>NaN</td>\n",
       "      <td>57.04974</td>\n",
       "      <td>51.93884</td>\n",
       "      <td>61.91988</td>\n",
       "      <td>458.0</td>\n",
       "    </tr>\n",
       "    <tr>\n",
       "      <th>3278</th>\n",
       "      <td>Zimbabwe</td>\n",
       "      <td>Sub-Saharan Africa</td>\n",
       "      <td>ZWE</td>\n",
       "      <td>2018</td>\n",
       "      <td>LM</td>\n",
       "      <td>8.680062</td>\n",
       "      <td>NaN</td>\n",
       "      <td>NaN</td>\n",
       "      <td>NaN</td>\n",
       "      <td>54.84205</td>\n",
       "      <td>49.82213</td>\n",
       "      <td>59.56721</td>\n",
       "      <td>NaN</td>\n",
       "    </tr>\n",
       "    <tr>\n",
       "      <th>3279</th>\n",
       "      <td>Zimbabwe</td>\n",
       "      <td>Sub-Saharan Africa</td>\n",
       "      <td>ZWE</td>\n",
       "      <td>2019</td>\n",
       "      <td>LM</td>\n",
       "      <td>7.703565</td>\n",
       "      <td>60.68252</td>\n",
       "      <td>63.60674</td>\n",
       "      <td>57.51101</td>\n",
       "      <td>54.23561</td>\n",
       "      <td>49.32882</td>\n",
       "      <td>58.92604</td>\n",
       "      <td>NaN</td>\n",
       "    </tr>\n",
       "  </tbody>\n",
       "</table>\n",
       "<p>3280 rows × 13 columns</p>\n",
       "</div>"
      ],
      "text/plain": [
       "          Country              Region CountryCode  Year incomeGroup   che_gdp  \\\n",
       "0     Afghanistan          South Asia         AFG  2000           L       NaN   \n",
       "1     Afghanistan          South Asia         AFG  2001           L       NaN   \n",
       "2     Afghanistan          South Asia         AFG  2002           L  9.443390   \n",
       "3     Afghanistan          South Asia         AFG  2003           L  8.941258   \n",
       "4     Afghanistan          South Asia         AFG  2004           L  9.808474   \n",
       "...           ...                 ...         ...   ...         ...       ...   \n",
       "3275     Zimbabwe  Sub-Saharan Africa         ZWE  2015           L  7.452066   \n",
       "3276     Zimbabwe  Sub-Saharan Africa         ZWE  2016           L  7.675163   \n",
       "3277     Zimbabwe  Sub-Saharan Africa         ZWE  2017           L  7.469752   \n",
       "3278     Zimbabwe  Sub-Saharan Africa         ZWE  2018          LM  8.680062   \n",
       "3279     Zimbabwe  Sub-Saharan Africa         ZWE  2019          LM  7.703565   \n",
       "\n",
       "      LifeExpectancy_BTSX  LifeExpectancy_FMLE  LifeExpectancy_MLE  \\\n",
       "0                54.98949             55.41726            54.57449   \n",
       "1                     NaN                  NaN                 NaN   \n",
       "2                     NaN                  NaN                 NaN   \n",
       "3                     NaN                  NaN                 NaN   \n",
       "4                     NaN                  NaN                 NaN   \n",
       "...                   ...                  ...                 ...   \n",
       "3275             58.47603             60.95527            55.73344   \n",
       "3276                  NaN                  NaN                 NaN   \n",
       "3277                  NaN                  NaN                 NaN   \n",
       "3278                  NaN                  NaN                 NaN   \n",
       "3279             60.68252             63.60674            57.51101   \n",
       "\n",
       "      Under5_Mortality_BTSX  Under5_Mortality_FMLE  Under5_Mortality_MLE  \\\n",
       "0                 129.17851              124.62522             133.52707   \n",
       "1                 125.18581              120.79429             129.35359   \n",
       "2                 121.06367              116.89275             125.00544   \n",
       "3                 116.91188              112.69169             120.83735   \n",
       "4                 112.63116              108.52726             116.57782   \n",
       "...                     ...                    ...                   ...   \n",
       "3275               61.27913               56.05436              66.31459   \n",
       "3276               58.66147               53.50827              63.56478   \n",
       "3277               57.04974               51.93884              61.91988   \n",
       "3278               54.84205               49.82213              59.56721   \n",
       "3279               54.23561               49.32882              58.92604   \n",
       "\n",
       "      MaternalMortalityRatio  \n",
       "0                     1450.0  \n",
       "1                     1390.0  \n",
       "2                     1300.0  \n",
       "3                     1240.0  \n",
       "4                     1180.0  \n",
       "...                      ...  \n",
       "3275                   480.0  \n",
       "3276                   468.0  \n",
       "3277                   458.0  \n",
       "3278                     NaN  \n",
       "3279                     NaN  \n",
       "\n",
       "[3280 rows x 13 columns]"
      ]
     },
     "execution_count": 29,
     "metadata": {},
     "output_type": "execute_result"
    }
   ],
   "source": [
    "InfoAll"
   ]
  },
  {
   "cell_type": "markdown",
   "metadata": {
    "pycharm": {
     "name": "#%% md\n"
    }
   },
   "source": [
    "##### which factor is correlated with health expenditure?"
   ]
  },
  {
   "cell_type": "markdown",
   "metadata": {
    "pycharm": {
     "name": "#%% md\n"
    }
   },
   "source": [
    "###### anova table shows that all three factors were related to health expenditure, of which the region has the most significant correlation"
   ]
  },
  {
   "cell_type": "code",
   "execution_count": 30,
   "metadata": {
    "pycharm": {
     "name": "#%%\n"
    }
   },
   "outputs": [
    {
     "data": {
      "text/html": [
       "<div>\n",
       "<style scoped>\n",
       "    .dataframe tbody tr th:only-of-type {\n",
       "        vertical-align: middle;\n",
       "    }\n",
       "\n",
       "    .dataframe tbody tr th {\n",
       "        vertical-align: top;\n",
       "    }\n",
       "\n",
       "    .dataframe thead th {\n",
       "        text-align: right;\n",
       "    }\n",
       "</style>\n",
       "<table border=\"1\" class=\"dataframe\">\n",
       "  <thead>\n",
       "    <tr style=\"text-align: right;\">\n",
       "      <th></th>\n",
       "      <th>sum_sq</th>\n",
       "      <th>df</th>\n",
       "      <th>F</th>\n",
       "      <th>PR(&gt;F)</th>\n",
       "    </tr>\n",
       "  </thead>\n",
       "  <tbody>\n",
       "    <tr>\n",
       "      <th>Year</th>\n",
       "      <td>303.340452</td>\n",
       "      <td>19.0</td>\n",
       "      <td>2.503468</td>\n",
       "      <td>3.192007e-04</td>\n",
       "    </tr>\n",
       "    <tr>\n",
       "      <th>incomeGroup</th>\n",
       "      <td>1527.263417</td>\n",
       "      <td>4.0</td>\n",
       "      <td>59.871376</td>\n",
       "      <td>8.014869e-49</td>\n",
       "    </tr>\n",
       "    <tr>\n",
       "      <th>Region</th>\n",
       "      <td>1500.962635</td>\n",
       "      <td>6.0</td>\n",
       "      <td>39.226893</td>\n",
       "      <td>2.975714e-46</td>\n",
       "    </tr>\n",
       "    <tr>\n",
       "      <th>Residual</th>\n",
       "      <td>20375.373572</td>\n",
       "      <td>3195.0</td>\n",
       "      <td>NaN</td>\n",
       "      <td>NaN</td>\n",
       "    </tr>\n",
       "  </tbody>\n",
       "</table>\n",
       "</div>"
      ],
      "text/plain": [
       "                   sum_sq      df          F        PR(>F)\n",
       "Year           303.340452    19.0   2.503468  3.192007e-04\n",
       "incomeGroup   1527.263417     4.0  59.871376  8.014869e-49\n",
       "Region        1500.962635     6.0  39.226893  2.975714e-46\n",
       "Residual     20375.373572  3195.0        NaN           NaN"
      ]
     },
     "execution_count": 30,
     "metadata": {},
     "output_type": "execute_result"
    }
   ],
   "source": [
    "# Ordinary Least Squares (OLS) model\n",
    "model = ols('che_gdp ~ Year+incomeGroup+Region', data=InfoAll).fit()\n",
    "anova_table = sm.stats.anova_lm(model, typ=2)\n",
    "anova_table"
   ]
  },
  {
   "cell_type": "code",
   "execution_count": 31,
   "metadata": {
    "pycharm": {
     "name": "#%%\n"
    }
   },
   "outputs": [
    {
     "data": {
      "text/plain": [
       "(0.11329528204354981, 1.1022013594640358e-10)"
      ]
     },
     "execution_count": 31,
     "metadata": {},
     "output_type": "execute_result"
    }
   ],
   "source": [
    "# InfoAll['Year']\n",
    "InfoAll = InfoAll.astype({\"Year\": int})\n",
    "yearexp = InfoAll[['che_gdp','Year']].dropna()\n",
    "pearsonr(yearexp['che_gdp'], yearexp['Year'])"
   ]
  },
  {
   "cell_type": "code",
   "execution_count": 32,
   "metadata": {
    "pycharm": {
     "name": "#%%\n"
    }
   },
   "outputs": [],
   "source": [
    "# health expenditure per region per year\n",
    "InfoAll2015_ = InfoAll.loc[(InfoAll[\"Year\"] == 2015) | (InfoAll[\"Year\"] == 2016) | (InfoAll[\"Year\"] == 2017) | (InfoAll[\"Year\"] == 2018) | (InfoAll[\"Year\"] == 2019)]\n",
    "d = InfoAll2015_[['Region','Year','che_gdp']]\n",
    "d = d.dropna()\n",
    "d = d.pivot_table(index='Region', columns='Year',values = 'che_gdp', aggfunc='mean')"
   ]
  },
  {
   "cell_type": "code",
   "execution_count": 33,
   "metadata": {
    "pycharm": {
     "name": "#%%\n"
    }
   },
   "outputs": [
    {
     "data": {
      "text/html": [
       "<div>\n",
       "<style scoped>\n",
       "    .dataframe tbody tr th:only-of-type {\n",
       "        vertical-align: middle;\n",
       "    }\n",
       "\n",
       "    .dataframe tbody tr th {\n",
       "        vertical-align: top;\n",
       "    }\n",
       "\n",
       "    .dataframe thead th {\n",
       "        text-align: right;\n",
       "    }\n",
       "</style>\n",
       "<table border=\"1\" class=\"dataframe\">\n",
       "  <thead>\n",
       "    <tr style=\"text-align: right;\">\n",
       "      <th>Year</th>\n",
       "      <th>2015</th>\n",
       "      <th>2016</th>\n",
       "      <th>2017</th>\n",
       "      <th>2018</th>\n",
       "      <th>2019</th>\n",
       "    </tr>\n",
       "    <tr>\n",
       "      <th>Region</th>\n",
       "      <th></th>\n",
       "      <th></th>\n",
       "      <th></th>\n",
       "      <th></th>\n",
       "      <th></th>\n",
       "    </tr>\n",
       "  </thead>\n",
       "  <tbody>\n",
       "    <tr>\n",
       "      <th>East Asia &amp; Pacific</th>\n",
       "      <td>6.809137</td>\n",
       "      <td>6.669258</td>\n",
       "      <td>6.673334</td>\n",
       "      <td>6.739615</td>\n",
       "      <td>7.210822</td>\n",
       "    </tr>\n",
       "    <tr>\n",
       "      <th>Europe &amp; Central Asia</th>\n",
       "      <td>7.628844</td>\n",
       "      <td>7.650285</td>\n",
       "      <td>7.588706</td>\n",
       "      <td>7.589544</td>\n",
       "      <td>7.735785</td>\n",
       "    </tr>\n",
       "    <tr>\n",
       "      <th>Latin America &amp; Caribbean</th>\n",
       "      <td>6.853407</td>\n",
       "      <td>6.848583</td>\n",
       "      <td>6.876387</td>\n",
       "      <td>6.998009</td>\n",
       "      <td>7.110047</td>\n",
       "    </tr>\n",
       "    <tr>\n",
       "      <th>Middle East &amp; North Africa</th>\n",
       "      <td>5.456460</td>\n",
       "      <td>5.490857</td>\n",
       "      <td>5.576039</td>\n",
       "      <td>5.565831</td>\n",
       "      <td>5.542898</td>\n",
       "    </tr>\n",
       "    <tr>\n",
       "      <th>North America</th>\n",
       "      <td>10.733205</td>\n",
       "      <td>11.022961</td>\n",
       "      <td>10.835383</td>\n",
       "      <td>10.806375</td>\n",
       "      <td>10.844478</td>\n",
       "    </tr>\n",
       "    <tr>\n",
       "      <th>South Asia</th>\n",
       "      <td>5.103873</td>\n",
       "      <td>5.479239</td>\n",
       "      <td>5.223773</td>\n",
       "      <td>5.265578</td>\n",
       "      <td>5.286553</td>\n",
       "    </tr>\n",
       "    <tr>\n",
       "      <th>Sub-Saharan Africa</th>\n",
       "      <td>5.960786</td>\n",
       "      <td>5.840205</td>\n",
       "      <td>5.684228</td>\n",
       "      <td>5.676715</td>\n",
       "      <td>5.551029</td>\n",
       "    </tr>\n",
       "  </tbody>\n",
       "</table>\n",
       "</div>"
      ],
      "text/plain": [
       "Year                             2015       2016       2017       2018  \\\n",
       "Region                                                                   \n",
       "East Asia & Pacific          6.809137   6.669258   6.673334   6.739615   \n",
       "Europe & Central Asia        7.628844   7.650285   7.588706   7.589544   \n",
       "Latin America & Caribbean    6.853407   6.848583   6.876387   6.998009   \n",
       "Middle East & North Africa   5.456460   5.490857   5.576039   5.565831   \n",
       "North America               10.733205  11.022961  10.835383  10.806375   \n",
       "South Asia                   5.103873   5.479239   5.223773   5.265578   \n",
       "Sub-Saharan Africa           5.960786   5.840205   5.684228   5.676715   \n",
       "\n",
       "Year                             2019  \n",
       "Region                                 \n",
       "East Asia & Pacific          7.210822  \n",
       "Europe & Central Asia        7.735785  \n",
       "Latin America & Caribbean    7.110047  \n",
       "Middle East & North Africa   5.542898  \n",
       "North America               10.844478  \n",
       "South Asia                   5.286553  \n",
       "Sub-Saharan Africa           5.551029  "
      ]
     },
     "execution_count": 33,
     "metadata": {},
     "output_type": "execute_result"
    }
   ],
   "source": [
    "d"
   ]
  },
  {
   "cell_type": "markdown",
   "metadata": {
    "pycharm": {
     "name": "#%% md\n"
    }
   },
   "source": [
    "###### correlation between independent var = region and dependent var = che_gdp in Year 2019\n"
   ]
  },
  {
   "cell_type": "code",
   "execution_count": 34,
   "metadata": {
    "pycharm": {
     "name": "#%%\n"
    }
   },
   "outputs": [
    {
     "data": {
      "image/png": "[encoded data removed]",
      "text/plain": [
       "<Figure size 1152x576 with 1 Axes>"
      ]
     },
     "metadata": {},
     "output_type": "display_data"
    }
   ],
   "source": [
    "# generate a boxplot to see the health expenditure distribution by income groups. Using boxplot, we can easily detect the differences between income groups\n",
    "\n",
    "# CAN is only country in North America\n",
    "\n",
    "plt.figure(figsize=(16,8))\n",
    "ax = sns.boxplot(x='Region', y='che_gdp', data= InfoAll[InfoAll['Year'] == 2019], color='#99c2a2')\n",
    "ax = sns.swarmplot(x=\"Region\", y=\"che_gdp\", data=  InfoAll[InfoAll['Year'] == 2019],color=\".2\")\n",
    "ax.set_xticklabels(ax.get_xticklabels(),rotation=30, ha=\"right\")\n",
    "sns.set(rc={\"figure.figsize\":(3, 4)})\n",
    "plt.show()\n",
    "# highest value: Tuvalu in East Asia"
   ]
  },
  {
   "cell_type": "markdown",
   "metadata": {
    "pycharm": {
     "name": "#%% md\n"
    }
   },
   "source": [
    "##### Effect of Health Expenditure on Selected Health Outcomes"
   ]
  },
  {
   "cell_type": "code",
   "execution_count": 35,
   "metadata": {
    "pycharm": {
     "name": "#%%\n"
    }
   },
   "outputs": [],
   "source": [
    "# life Expectancy recorded data every five year. 2010, 2015, 2000, 2019.\n",
    "lifeExp_clean = InfoAll[['Country','Region','CountryCode','Year','incomeGroup','che_gdp', 'LifeExpectancy_BTSX']].dropna()\n",
    "# drop nan before calculating correlation\n",
    "Under5_clean = InfoAll[['Country','Region','CountryCode','Year','incomeGroup','che_gdp', 'Under5_Mortality_BTSX']].dropna()\n",
    "MaternalMortality_clean = InfoAll[['Country','Region','CountryCode','Year','incomeGroup','che_gdp', 'MaternalMortalityRatio']].dropna()"
   ]
  },
  {
   "cell_type": "code",
   "execution_count": 36,
   "metadata": {
    "pycharm": {
     "name": "#%%\n"
    }
   },
   "outputs": [
    {
     "name": "stdout",
     "output_type": "stream",
     "text": [
      "(-0.05273386907325078, 0.20671833076973575)\n",
      "(-0.4179164339961643, 1.4967499397694152e-18)\n",
      "(-0.43773856764790825, 7.478549328546016e-34)\n",
      "(-0.18264024249414057, 0.005070690395405787)\n",
      "(-0.8934616316635844, 7.234990411166803e-06)\n",
      "(-0.04388444357190595, 0.6370268182400295)\n",
      "(0.07482459010325876, 0.1497748139582902)\n"
     ]
    }
   ],
   "source": [
    "# aligned with previous finding that in Sub-Saharan Africa Under5_Mortality in both sex decreased with health expenditure increased\n",
    "print(effectOfexp2015before(Under5_clean,'Under5_Mortality_BTSX','Sub-Saharan Africa'))\n",
    "print(effectOfexp2015before(Under5_clean,'Under5_Mortality_BTSX','Latin America & Caribbean')) #\n",
    "print(effectOfexp2015before(Under5_clean,'Under5_Mortality_BTSX','Europe & Central Asia')) #\n",
    "print(effectOfexp2015before(Under5_clean,'Under5_Mortality_BTSX','Middle East & North Africa')) #\n",
    "print(effectOfexp2015before(Under5_clean,'Under5_Mortality_BTSX','North America')) #\n",
    "print(effectOfexp2015before(Under5_clean,'Under5_Mortality_BTSX','South Asia'))\n",
    "print(effectOfexp2015before(Under5_clean,'Under5_Mortality_BTSX','East Asia & Pacific'))"
   ]
  },
  {
   "cell_type": "code",
   "execution_count": 37,
   "metadata": {
    "pycharm": {
     "name": "#%%\n"
    }
   },
   "outputs": [
    {
     "name": "stdout",
     "output_type": "stream",
     "text": [
      "(0.06156939736221052, 0.38885774979525894)\n",
      "(-0.4862107616124712, 2.2546645622071464e-09)\n",
      "(-0.2670176197170783, 3.5020413090515225e-05)\n",
      "(-0.4219379370769156, 0.0001629955677646404)\n",
      "(-0.017347199679069863, 0.9779139671915713)\n",
      "(0.13045875955951536, 0.4223403112969549)\n",
      "(0.06635443454214812, 0.46220372858363734)\n"
     ]
    }
   ],
   "source": [
    "# except for Sub-Saharan Africa and South Asia, the life expectancy increased with every increase in health expenditure\n",
    "# after 2015, in Middle East & North Africa, with every one percent increase in health expenditure over total GDP, results in 0.42 percent decrease in the Under5_Mortality rate despite of sex\n",
    "print(effectOfexp2015after(Under5_clean,'Under5_Mortality_BTSX','Sub-Saharan Africa'))\n",
    "print(effectOfexp2015after(Under5_clean,'Under5_Mortality_BTSX','Latin America & Caribbean'))\n",
    "print(effectOfexp2015after(Under5_clean,'Under5_Mortality_BTSX','Europe & Central Asia'))\n",
    "print(effectOfexp2015after(Under5_clean,'Under5_Mortality_BTSX','Middle East & North Africa'))\n",
    "print(effectOfexp2015after(Under5_clean,'Under5_Mortality_BTSX','North America'))\n",
    "print(effectOfexp2015after(Under5_clean,'Under5_Mortality_BTSX','South Asia'))\n",
    "print(effectOfexp2015after(Under5_clean,'Under5_Mortality_BTSX','East Asia & Pacific'))"
   ]
  },
  {
   "cell_type": "code",
   "execution_count": 38,
   "metadata": {
    "pycharm": {
     "name": "#%%\n"
    }
   },
   "outputs": [
    {
     "name": "stdout",
     "output_type": "stream",
     "text": [
      "(-0.3350881235726048, 0.0025391024493634957)\n",
      "(0.4250678416044668, 0.0016829661955891796)\n",
      "(0.5973238406976666, 1.0138810739613868e-09)\n",
      "(0.63455158632821, 0.00016585742208048248)\n",
      "(1.0, 1.0)\n",
      "(-0.24369684196681535, 0.3630676080782074)\n",
      "(0.3235638234832593, 0.036595604558377945)\n"
     ]
    }
   ],
   "source": [
    "# only one country in north america, the relationship is weird\n",
    "# except for Sub-Saharan Africa and South Asia, the life expectancy increased with every increase in health expenditure\n",
    "# in Latin America & Caribbean,\n",
    "# with every one percent increase in health expenditure over total GDP, results in 0.42 years increase in life expectancy\n",
    "print(effectOfexp2015after(lifeExp_clean,'LifeExpectancy_BTSX','Sub-Saharan Africa'))\n",
    "print(effectOfexp2015after(lifeExp_clean,'LifeExpectancy_BTSX','Latin America & Caribbean'))\n",
    "print(effectOfexp2015after(lifeExp_clean,'LifeExpectancy_BTSX','Europe & Central Asia'))\n",
    "print(effectOfexp2015after(lifeExp_clean,'LifeExpectancy_BTSX','Middle East & North Africa'))\n",
    "print(effectOfexp2015after(lifeExp_clean,'LifeExpectancy_BTSX','North America'))\n",
    "print(effectOfexp2015after(lifeExp_clean,'LifeExpectancy_BTSX','South Asia'))\n",
    "print(effectOfexp2015after(lifeExp_clean,'LifeExpectancy_BTSX','East Asia & Pacific'))"
   ]
  },
  {
   "cell_type": "code",
   "execution_count": 39,
   "metadata": {
    "pycharm": {
     "name": "#%%\n"
    }
   },
   "outputs": [
    {
     "name": "stdout",
     "output_type": "stream",
     "text": [
      "(0.23704581869989647, 0.009751693990760864)\n",
      "(-0.3583465131780046, 0.0012755089397438722)\n",
      "(-0.4534716539415885, 4.752601925893249e-08)\n",
      "(-0.32635704173308233, 0.02867260395320298)\n",
      "(-0.7698790398905194, 0.44063302240183144)\n",
      "(0.6019312160434016, 0.001858484872325718)\n",
      "(-0.22189943511888263, 0.08048733973069434)\n"
     ]
    }
   ],
   "source": [
    "# maternal mortality rate for each region and its correlation with the increase/decrease in health expenditure\n",
    "# except for Sub-Saharan Africa and South Asia, the mortality rate decreased with every increase in health expenditure\n",
    "# in Latin America & Caribbean, with every one percent increase in health expenditure over total GDP, results in 0.35 percent decrease in the mortality rate\n",
    "print(effectOfexp2015after(MaternalMortality_clean,'MaternalMortalityRatio','Sub-Saharan Africa'))\n",
    "print(effectOfexp2015after(MaternalMortality_clean,'MaternalMortalityRatio','Latin America & Caribbean'))\n",
    "print(effectOfexp2015after(MaternalMortality_clean,'MaternalMortalityRatio','Europe & Central Asia'))\n",
    "print(effectOfexp2015after(MaternalMortality_clean,'MaternalMortalityRatio','Middle East & North Africa'))\n",
    "print(effectOfexp2015after(MaternalMortality_clean,'MaternalMortalityRatio','North America'))\n",
    "print(effectOfexp2015after(MaternalMortality_clean,'MaternalMortalityRatio','South Asia'))\n",
    "print(effectOfexp2015after(MaternalMortality_clean,'MaternalMortalityRatio','East Asia & Pacific'))\n"
   ]
  },
  {
   "cell_type": "code",
   "execution_count": null,
   "metadata": {},
   "outputs": [],
   "source": []
  },
  {
   "cell_type": "code",
   "execution_count": null,
   "metadata": {},
   "outputs": [],
   "source": []
  }
 ],
 "metadata": {
  "kernelspec": {
   "display_name": "Python 3",
   "language": "python",
   "name": "python3"
  },
  "language_info": {
   "codemirror_mode": {
    "name": "ipython",
    "version": 3
   },
   "file_extension": ".py",
   "mimetype": "text/x-python",
   "name": "python",
   "nbconvert_exporter": "python",
   "pygments_lexer": "ipython3",
   "version": "3.9.5"
  }
 },
 "nbformat": 4,
 "nbformat_minor": 1
}
